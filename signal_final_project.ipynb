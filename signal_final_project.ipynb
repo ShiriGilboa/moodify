{
 "cells": [
  {
   "cell_type": "markdown",
   "id": "c5da62cf",
   "metadata": {},
   "source": [
    "## Imports"
   ]
  },
  {
   "cell_type": "code",
   "execution_count": 45,
   "id": "3ceb0f2c",
   "metadata": {},
   "outputs": [],
   "source": [
    "# Standard libraries\n",
    "import os\n",
    "from typing import Optional\n",
    "\n",
    "# Data processing and scientific computing\n",
    "import numpy as np\n",
    "import pandas as pd\n",
    "\n",
    "# Visualization libraries\n",
    "import matplotlib.pyplot as plt\n",
    "import seaborn as sns\n",
    "\n",
    "# Machine Learning: Models\n",
    "from sklearn.ensemble import RandomForestClassifier\n",
    "from sklearn.linear_model import LogisticRegression, SGDClassifier\n",
    "from sklearn.naive_bayes import GaussianNB\n",
    "from sklearn.neighbors import KNeighborsClassifier\n",
    "from sklearn.neural_network import MLPClassifier\n",
    "from sklearn.svm import SVC\n",
    "from sklearn.tree import DecisionTreeClassifier\n",
    "from xgboost import XGBClassifier, XGBRFClassifier, plot_tree, plot_importance\n",
    "\n",
    "# Machine Learning: Model evaluation and preprocessing\n",
    "from sklearn.metrics import accuracy_score, classification_report, confusion_matrix, roc_auc_score, roc_curve\n",
    "from sklearn.model_selection import train_test_split\n",
    "from sklearn.preprocessing import LabelEncoder, StandardScaler\n",
    "\n",
    "# Audio processing libraries\n",
    "import librosa\n",
    "import librosa.display\n",
    "import openl3\n",
    "import soundfile as sf\n",
    "\n",
    "# TensorFlow & Keras for Deep Learning\n",
    "import tensorflow as tf\n",
    "from tensorflow.keras import layers, models\n",
    "from tensorflow.keras.layers import Activation, Bidirectional, Conv2D, Dense, Dropout, Flatten, GRU, Input, LSTM, MaxPooling2D\n",
    "from tensorflow.keras.callbacks import ModelCheckpoint\n",
    "\n",
    "# Keras specific\n",
    "import keras\n",
    "from keras.layers import Embedding, Lambda\n",
    "from keras.models import Model, Sequential\n"
   ]
  },
  {
   "cell_type": "code",
   "execution_count": 46,
   "id": "7550e38c",
   "metadata": {},
   "outputs": [],
   "source": [
    "dict_moods = {'happy': 0, 'sad': 1, 'angry': 2, 'in-love': 3}"
   ]
  },
  {
   "cell_type": "code",
   "execution_count": 69,
   "id": "653aefa8",
   "metadata": {},
   "outputs": [],
   "source": [
    "def remove_duplicates(data_ini: pd.DataFrame) -> pd.DataFrame:\n",
    "    \"\"\"\n",
    "    Removes duplicate rows from a DataFrame based on the 'Song ID' column.\n",
    "    \"\"\"\n",
    "    data = pd.DataFrame(columns=data_ini.columns)\n",
    "\n",
    "    for index, row in data_ini.iterrows():\n",
    "        if row['Song ID'] not in data['Song ID'].values:\n",
    "            data = data.append(row)\n",
    "\n",
    "    data.reset_index(drop=True, inplace=True)\n",
    "    \n",
    "    return data\n",
    "\n",
    "def normalize_to_same_scale(data_i: pd.DataFrame) -> pd.DataFrame:\n",
    "    \"\"\"\n",
    "    Normalizes the numerical columns of a DataFrame to have a mean of 0 and a standard deviation of 1.\n",
    "    \n",
    "    Returns:\n",
    "    - pd.DataFrame: The normalized DataFrame.\n",
    "    \"\"\"\n",
    "    std_scaler = StandardScaler()\n",
    "    np_scaled = std_scaler.fit_transform(data_i) \n",
    "    return pd.DataFrame(np_scaled, columns = data_i.columns)\n",
    "\n",
    "def adding_number_label_column(data: pd.DataFrame, original_label_column: str = \"Emotion\", new_label_column: str = \"label\",\n",
    "                              mapping_dict: dict[str, int] = {'happy': 0, 'sad': 1, 'angry': 2, 'in-love': 3}) -> pd.DataFrame:   \n",
    "    \"\"\"\n",
    "    Adds a new column to the DataFrame with numerical labels based on mapping from another column's values.\n",
    "    \"\"\"  \n",
    "    # Replace values in the 'Emotion' column using the dictionary and map as a int number representaion.\n",
    "    data[new_label_column] = data[original_label_column].str.lower().map(mapping_dict)\n",
    "    return data.dropna(subset=[new_label_column])   \n",
    "\n",
    "def prepare_data(data_i: pd.DataFrame, label_column: str = \"label\", columns_to_exclude: List[str] = []) -> Tuple[pd.DataFrame, pd.Series]:\n",
    "    \"\"\"\n",
    "    Prepares the data for modeling by separating labels from features and normalizing the features.\n",
    "    \"\"\"\n",
    "    labels = data_i[label_column]\n",
    "    features_data = data_i.drop(columns=[label_column] + columns_to_exclude)\n",
    "    features_data = normalize_to_same_scale(features_data)\n",
    "    return features_data, labels\n",
    "    \n",
    "def model_fit_and_predict(model, X_train: pd.DataFrame, X_test: pd.DataFrame, y_train: pd.Series, y_test: pd.Series, model_name: str = \"\", \n",
    "                          print_classification_report: bool = False, print_confusion_matrix: bool = False) -> None:\n",
    "    \"\"\"\n",
    "    Fits a model to the training data and makes predictions on the test data, with optional printing of classification report and confusion matrix.\n",
    "    \"\"\"\n",
    "    model.fit(X_train, y_train)\n",
    "    preds = model.predict(X_test)\n",
    "    if print_confusion_matrix:\n",
    "        print(confusion_matrix(y_test, preds))\n",
    "    \n",
    "    if print_classification_report:\n",
    "        print(classification_report(y_test, preds, target_names=dict_moods.keys()))\n",
    "        \n",
    "    print('Accuracy', model_name, ':', round(accuracy_score(y_test, preds), 5), '\\n')\n",
    "    \n",
    "def print_confusion_matrix(y_test, y_pred):\n",
    "    cf_matrix = confusion_matrix(y_test, y_pred)\n",
    "\n",
    "    # Normalize confusion matrix\n",
    "    cf_matrix_normalized = cf_matrix.astype('float') / cf_matrix.sum(axis=1)[:, np.newaxis]\n",
    "\n",
    "    # Plot heatmap\n",
    "    sns.heatmap(cf_matrix_normalized, square=True, annot=True, fmt='.2f', cbar=False,\n",
    "                xticklabels=dict_moods.keys(),\n",
    "                yticklabels=dict_moods.keys())\n",
    "    plt.xlabel('True label', fontsize=14)\n",
    "    plt.ylabel('Predicted label', fontsize=14)\n",
    "    plt.title('Normalized Confusion Matrix', fontsize=16)\n",
    "    plt.show()\n",
    "    \n",
    "def get_and_print_classification_report(model, X_test, y_test):    \n",
    "    y_true = np.argmax(y_test, axis = 1)\n",
    "    y_pred = model.predict(X_test)\n",
    "    y_pred = np.argmax(y_pred, axis=1)\n",
    "\n",
    "    print(classification_report(y_true, y_pred, target_names=dict_moods.keys()))\n",
    "    return y_true, y_pred"
   ]
  },
  {
   "cell_type": "code",
   "execution_count": 4,
   "id": "db1a6809",
   "metadata": {},
   "outputs": [],
   "source": [
    "def run_classic_ml_models(X_train, X_test, y_train, y_test, use_knn = False,\n",
    "                          print_classification_report: bool = False, print_confusion_matrix: bool = False):\n",
    "    \n",
    "    # Naive Base\n",
    "    nb = GaussianNB()\n",
    "    model_fit_and_predict(nb, X_train, X_test, y_train, y_test, \"Naive Bayes\", \n",
    "                          print_classification_report, print_confusion_matrix)\n",
    "    \n",
    "    # Stochastic Gradient Descent\n",
    "    sgd = SGDClassifier(max_iter=5000, random_state=0)\n",
    "    model_fit_and_predict(sgd, X_train, X_test, y_train, y_test, \"Stochastic Gradient Descent\", \n",
    "                          print_classification_report, print_confusion_matrix)\n",
    "    \n",
    "    # KNN\n",
    "    if use_knn:\n",
    "        knn = KNeighborsClassifier(n_neighbors=10)\n",
    "        model_fit_and_predict(knn, X_train, X_test, y_train, y_test, \"KNN\", \n",
    "                              print_classification_report, print_confusion_matrix)\n",
    "    \n",
    "    # Decission trees\n",
    "    tree = DecisionTreeClassifier()\n",
    "    model_fit_and_predict(tree, X_train, X_test, y_train, y_test, \"Decission trees\", \n",
    "                          print_classification_report, print_confusion_matrix)\n",
    "    \n",
    "    # Random Forest\n",
    "    rforest = RandomForestClassifier(n_estimators=500, max_depth=8, random_state=42)\n",
    "    model_fit_and_predict(rforest, X_train, X_test, y_train, y_test, \"Random Forest\", \n",
    "                          print_classification_report, print_confusion_matrix)\n",
    "    \n",
    "    # Support Vector Machine\n",
    "    svm = SVC(decision_function_shape=\"ovo\")\n",
    "    model_fit_and_predict(svm, X_train, X_test, y_train, y_test, \"Support Vector Machine\", \n",
    "                          print_classification_report, print_confusion_matrix)\n",
    "    \n",
    "    # Logistic Regression\n",
    "    lg = LogisticRegression(random_state=0, solver='lbfgs', multi_class='multinomial')\n",
    "    model_fit_and_predict(lg, X_train, X_test, y_train, y_test, \"Logistic Regression\", \n",
    "                          print_classification_report, print_confusion_matrix)\n",
    "    \n",
    "    # Neural Nets\n",
    "    nn = MLPClassifier(solver='lbfgs', alpha=1e-5, hidden_layer_sizes=(5000, 10), random_state=1)\n",
    "    model_fit_and_predict(nn, X_train, X_test, y_train, y_test, \"Neural Nets\", \n",
    "                          print_classification_report, print_confusion_matrix)\n",
    "    \n",
    "    # Cross Gradient Booster\n",
    "    xgb = XGBClassifier(n_estimators=1000, learning_rate=0.05)\n",
    "    model_fit_and_predict(xgb, X_train, X_test, y_train, y_test, \"Cross Gradient Booster\", \n",
    "                          print_classification_report, print_confusion_matrix)\n",
    "    \n",
    "    # Cross Gradient Booster (Random Forest)\n",
    "    xgbrf = XGBRFClassifier(objective= 'multi:softmax')\n",
    "    model_fit_and_predict(xgbrf, X_train, X_test, y_train, y_test, \"Cross Gradient Booster (Random Forest)\", \n",
    "                          print_classification_report, print_confusion_matrix)"
   ]
  },
  {
   "cell_type": "code",
   "execution_count": 48,
   "id": "15d22a15",
   "metadata": {},
   "outputs": [],
   "source": [
    "all_non_features_columns = ['Song ID', 'Song Name', 'Artist', 'Length', 'Spectrogram Path'] #, 'Lyrics']\n",
    "spotify_all_columns = [\"Danceability\", \"Energy\", \"Key\", \"Loudness\", \"Mode\", \"Speechiness\", \"Acousticness\", \"Instrumentalness\", \"Liveness\", \"Valence\", \"Tempo\", \"Time Signature\"]\n",
    "roberta_all_columns = [\"sadness_score\", \"neutral_score\", \"disappointment_score\", \"annoyance_score\", \"realization_score\", \"disapproval_score\", \"curiosity_score\", \"nervousness_score\", \"anger_score\", \"confusion_score\", \"approval_score\", \"grief_score\", \"amusement_score\", \"caring_score\", \"remorse_score\", \"embarrassment_score\", \"joy_score\", \"disgust_score\", \"optimism_score\", \"desire_score\", \"fear_score\", \"surprise_score\", \"relief_score\", \"love_score\", \"admiration_score\", \"excitement_score\", \"pride_score\", \"gratitude_score\"]"
   ]
  },
  {
   "cell_type": "markdown",
   "id": "28690174",
   "metadata": {},
   "source": [
    "## Classic ML on spotify features"
   ]
  },
  {
   "cell_type": "code",
   "execution_count": 6,
   "id": "dc10e8db",
   "metadata": {
    "scrolled": true
   },
   "outputs": [
    {
     "data": {
      "text/html": [
       "<div>\n",
       "<style scoped>\n",
       "    .dataframe tbody tr th:only-of-type {\n",
       "        vertical-align: middle;\n",
       "    }\n",
       "\n",
       "    .dataframe tbody tr th {\n",
       "        vertical-align: top;\n",
       "    }\n",
       "\n",
       "    .dataframe thead th {\n",
       "        text-align: right;\n",
       "    }\n",
       "</style>\n",
       "<table border=\"1\" class=\"dataframe\">\n",
       "  <thead>\n",
       "    <tr style=\"text-align: right;\">\n",
       "      <th></th>\n",
       "      <th>Song ID</th>\n",
       "      <th>Song Name</th>\n",
       "      <th>Artist</th>\n",
       "      <th>Length</th>\n",
       "      <th>Danceability</th>\n",
       "      <th>Energy</th>\n",
       "      <th>Key</th>\n",
       "      <th>Loudness</th>\n",
       "      <th>Mode</th>\n",
       "      <th>Speechiness</th>\n",
       "      <th>...</th>\n",
       "      <th>desire_score</th>\n",
       "      <th>fear_score</th>\n",
       "      <th>surprise_score</th>\n",
       "      <th>relief_score</th>\n",
       "      <th>love_score</th>\n",
       "      <th>admiration_score</th>\n",
       "      <th>excitement_score</th>\n",
       "      <th>pride_score</th>\n",
       "      <th>gratitude_score</th>\n",
       "      <th>Emotion</th>\n",
       "    </tr>\n",
       "  </thead>\n",
       "  <tbody>\n",
       "    <tr>\n",
       "      <th>0</th>\n",
       "      <td>3hRV0jL3vUpRrcy398teAU</td>\n",
       "      <td>The Night We Met</td>\n",
       "      <td>Lord Huron</td>\n",
       "      <td>208211</td>\n",
       "      <td>0.544</td>\n",
       "      <td>0.369</td>\n",
       "      <td>2</td>\n",
       "      <td>-9.514</td>\n",
       "      <td>1</td>\n",
       "      <td>0.0380</td>\n",
       "      <td>...</td>\n",
       "      <td>0.002927</td>\n",
       "      <td>0.061406</td>\n",
       "      <td>0.021120</td>\n",
       "      <td>0.001892</td>\n",
       "      <td>0.001701</td>\n",
       "      <td>0.000661</td>\n",
       "      <td>0.002004</td>\n",
       "      <td>0.000505</td>\n",
       "      <td>0.001042</td>\n",
       "      <td>sad</td>\n",
       "    </tr>\n",
       "    <tr>\n",
       "      <th>1</th>\n",
       "      <td>3hRV0jL3vUpRrcy398teAU</td>\n",
       "      <td>The Night We Met</td>\n",
       "      <td>Lord Huron</td>\n",
       "      <td>208211</td>\n",
       "      <td>0.544</td>\n",
       "      <td>0.369</td>\n",
       "      <td>2</td>\n",
       "      <td>-9.514</td>\n",
       "      <td>1</td>\n",
       "      <td>0.0380</td>\n",
       "      <td>...</td>\n",
       "      <td>0.002927</td>\n",
       "      <td>0.061406</td>\n",
       "      <td>0.021120</td>\n",
       "      <td>0.001892</td>\n",
       "      <td>0.001701</td>\n",
       "      <td>0.000661</td>\n",
       "      <td>0.002004</td>\n",
       "      <td>0.000505</td>\n",
       "      <td>0.001042</td>\n",
       "      <td>sad</td>\n",
       "    </tr>\n",
       "    <tr>\n",
       "      <th>2</th>\n",
       "      <td>3hRV0jL3vUpRrcy398teAU</td>\n",
       "      <td>The Night We Met</td>\n",
       "      <td>Lord Huron</td>\n",
       "      <td>208211</td>\n",
       "      <td>0.544</td>\n",
       "      <td>0.369</td>\n",
       "      <td>2</td>\n",
       "      <td>-9.514</td>\n",
       "      <td>1</td>\n",
       "      <td>0.0380</td>\n",
       "      <td>...</td>\n",
       "      <td>0.002927</td>\n",
       "      <td>0.061406</td>\n",
       "      <td>0.021120</td>\n",
       "      <td>0.001892</td>\n",
       "      <td>0.001701</td>\n",
       "      <td>0.000661</td>\n",
       "      <td>0.002004</td>\n",
       "      <td>0.000505</td>\n",
       "      <td>0.001042</td>\n",
       "      <td>sad</td>\n",
       "    </tr>\n",
       "    <tr>\n",
       "      <th>3</th>\n",
       "      <td>0mflMxspEfB0VbI1kyLiAv</td>\n",
       "      <td>Stick Season</td>\n",
       "      <td>Noah Kahan</td>\n",
       "      <td>182346</td>\n",
       "      <td>0.662</td>\n",
       "      <td>0.488</td>\n",
       "      <td>9</td>\n",
       "      <td>-6.894</td>\n",
       "      <td>1</td>\n",
       "      <td>0.0682</td>\n",
       "      <td>...</td>\n",
       "      <td>0.040197</td>\n",
       "      <td>0.179270</td>\n",
       "      <td>0.023288</td>\n",
       "      <td>0.003167</td>\n",
       "      <td>0.564811</td>\n",
       "      <td>0.004089</td>\n",
       "      <td>0.007492</td>\n",
       "      <td>0.001954</td>\n",
       "      <td>0.000539</td>\n",
       "      <td>sad</td>\n",
       "    </tr>\n",
       "    <tr>\n",
       "      <th>4</th>\n",
       "      <td>0mflMxspEfB0VbI1kyLiAv</td>\n",
       "      <td>Stick Season</td>\n",
       "      <td>Noah Kahan</td>\n",
       "      <td>182346</td>\n",
       "      <td>0.662</td>\n",
       "      <td>0.488</td>\n",
       "      <td>9</td>\n",
       "      <td>-6.894</td>\n",
       "      <td>1</td>\n",
       "      <td>0.0682</td>\n",
       "      <td>...</td>\n",
       "      <td>0.040197</td>\n",
       "      <td>0.179270</td>\n",
       "      <td>0.023288</td>\n",
       "      <td>0.003167</td>\n",
       "      <td>0.564811</td>\n",
       "      <td>0.004089</td>\n",
       "      <td>0.007492</td>\n",
       "      <td>0.001954</td>\n",
       "      <td>0.000539</td>\n",
       "      <td>sad</td>\n",
       "    </tr>\n",
       "  </tbody>\n",
       "</table>\n",
       "<p>5 rows × 46 columns</p>\n",
       "</div>"
      ],
      "text/plain": [
       "                  Song ID         Song Name      Artist  Length  Danceability  \\\n",
       "0  3hRV0jL3vUpRrcy398teAU  The Night We Met  Lord Huron  208211         0.544   \n",
       "1  3hRV0jL3vUpRrcy398teAU  The Night We Met  Lord Huron  208211         0.544   \n",
       "2  3hRV0jL3vUpRrcy398teAU  The Night We Met  Lord Huron  208211         0.544   \n",
       "3  0mflMxspEfB0VbI1kyLiAv      Stick Season  Noah Kahan  182346         0.662   \n",
       "4  0mflMxspEfB0VbI1kyLiAv      Stick Season  Noah Kahan  182346         0.662   \n",
       "\n",
       "   Energy  Key  Loudness  Mode  Speechiness  ...  desire_score  fear_score  \\\n",
       "0   0.369    2    -9.514     1       0.0380  ...      0.002927    0.061406   \n",
       "1   0.369    2    -9.514     1       0.0380  ...      0.002927    0.061406   \n",
       "2   0.369    2    -9.514     1       0.0380  ...      0.002927    0.061406   \n",
       "3   0.488    9    -6.894     1       0.0682  ...      0.040197    0.179270   \n",
       "4   0.488    9    -6.894     1       0.0682  ...      0.040197    0.179270   \n",
       "\n",
       "   surprise_score  relief_score  love_score  admiration_score  \\\n",
       "0        0.021120      0.001892    0.001701          0.000661   \n",
       "1        0.021120      0.001892    0.001701          0.000661   \n",
       "2        0.021120      0.001892    0.001701          0.000661   \n",
       "3        0.023288      0.003167    0.564811          0.004089   \n",
       "4        0.023288      0.003167    0.564811          0.004089   \n",
       "\n",
       "  excitement_score  pride_score  gratitude_score  Emotion  \n",
       "0         0.002004     0.000505         0.001042      sad  \n",
       "1         0.002004     0.000505         0.001042      sad  \n",
       "2         0.002004     0.000505         0.001042      sad  \n",
       "3         0.007492     0.001954         0.000539      sad  \n",
       "4         0.007492     0.001954         0.000539      sad  \n",
       "\n",
       "[5 rows x 46 columns]"
      ]
     },
     "execution_count": 6,
     "metadata": {},
     "output_type": "execute_result"
    }
   ],
   "source": [
    "# Reading Data\n",
    "data_ini = pd.read_csv(f'data_with_lyrics_class.csv')\n",
    "data_ini.head()"
   ]
  },
  {
   "cell_type": "code",
   "execution_count": null,
   "id": "e79716a9",
   "metadata": {},
   "outputs": [],
   "source": [
    "data = remove_duplicates(data_ini)\n",
    "data = adding_number_label_column(data)\n",
    "data = data.drop(columns=[\"Emotion\"])"
   ]
  },
  {
   "cell_type": "code",
   "execution_count": 8,
   "id": "9693744c",
   "metadata": {},
   "outputs": [
    {
     "name": "stdout",
     "output_type": "stream",
     "text": [
      "spotify features are (410, 12)\n",
      "roberta features are (410, 28)\n",
      "all features are (410, 40)\n"
     ]
    }
   ],
   "source": [
    "# prepare data\n",
    "features_spotify, labels_spotify = prepare_data(data, label_column=\"label\", columns_to_exclude=all_non_features_columns + roberta_all_columns)\n",
    "print(f\"spotify features are {features_spotify.shape}\")\n",
    "features_roberta, labels_roberta = prepare_data(data, label_column=\"label\", columns_to_exclude=all_non_features_columns + spotify_all_columns)\n",
    "print(f\"roberta features are {features_roberta.shape}\")\n",
    "features_all, labels_all = prepare_data(data, label_column=\"label\", columns_to_exclude=all_non_features_columns)\n",
    "print(f\"all features are {features_all.shape}\")"
   ]
  },
  {
   "cell_type": "code",
   "execution_count": 9,
   "id": "8460483f",
   "metadata": {},
   "outputs": [
    {
     "name": "stdout",
     "output_type": "stream",
     "text": [
      "Accuracy Naive Bayes : 0.5122 \n",
      "\n",
      "Accuracy Stochastic Gradient Descent : 0.54878 \n",
      "\n",
      "Accuracy KNN : 0.57317 \n",
      "\n",
      "Accuracy Decission trees : 0.62195 \n",
      "\n",
      "Accuracy Random Forest : 0.62195 \n",
      "\n",
      "Accuracy Support Vector Machine : 0.63415 \n",
      "\n",
      "Accuracy Logistic Regression : 0.63415 \n",
      "\n",
      "Accuracy Neural Nets : 0.60976 \n",
      "\n",
      "Accuracy Cross Gradient Booster : 0.67073 \n",
      "\n",
      "Accuracy Cross Gradient Booster (Random Forest) : 0.68293 \n",
      "\n"
     ]
    }
   ],
   "source": [
    "# Spotify features:\n",
    "X_train, X_test, y_train, y_test = train_test_split(features_spotify, labels_spotify, test_size=0.2, random_state=42, shuffle=True, stratify=labels_spotify)\n",
    "run_classic_ml_models(X_train, X_test, y_train, y_test, True)"
   ]
  },
  {
   "cell_type": "code",
   "execution_count": 10,
   "id": "8df90060",
   "metadata": {},
   "outputs": [
    {
     "name": "stdout",
     "output_type": "stream",
     "text": [
      "Accuracy Naive Bayes : 0.45122 \n",
      "\n",
      "Accuracy Stochastic Gradient Descent : 0.46341 \n",
      "\n",
      "Accuracy Decission trees : 0.35366 \n",
      "\n",
      "Accuracy Random Forest : 0.43902 \n",
      "\n",
      "Accuracy Support Vector Machine : 0.5 \n",
      "\n",
      "Accuracy Logistic Regression : 0.4878 \n",
      "\n",
      "Accuracy Neural Nets : 0.37805 \n",
      "\n",
      "Accuracy Cross Gradient Booster : 0.43902 \n",
      "\n",
      "Accuracy Cross Gradient Booster (Random Forest) : 0.4878 \n",
      "\n"
     ]
    }
   ],
   "source": [
    "# roberta-base-go_emotions features:\n",
    "X_train, X_test, y_train, y_test = train_test_split(features_roberta, labels_roberta, test_size=0.2, random_state=42, shuffle=True, stratify=labels_roberta)\n",
    "run_classic_ml_models(X_train, X_test, y_train, y_test)"
   ]
  },
  {
   "cell_type": "code",
   "execution_count": 11,
   "id": "12eff3dd",
   "metadata": {},
   "outputs": [
    {
     "name": "stdout",
     "output_type": "stream",
     "text": [
      "Accuracy Naive Bayes : 0.64634 \n",
      "\n",
      "Accuracy Stochastic Gradient Descent : 0.65854 \n",
      "\n",
      "Accuracy Decission trees : 0.60976 \n",
      "\n",
      "Accuracy Random Forest : 0.69512 \n",
      "\n",
      "Accuracy Support Vector Machine : 0.67073 \n",
      "\n",
      "Accuracy Logistic Regression : 0.71951 \n",
      "\n",
      "Accuracy Neural Nets : 0.65854 \n",
      "\n",
      "Accuracy Cross Gradient Booster : 0.7439 \n",
      "\n",
      "Accuracy Cross Gradient Booster (Random Forest) : 0.71951 \n",
      "\n"
     ]
    }
   ],
   "source": [
    "# Spotify + roberta-base-go_emotions features:\n",
    "X_train, X_test, y_train, y_test = train_test_split(features_all, labels_all, test_size=0.2, random_state=42, shuffle=True, stratify=labels_roberta)\n",
    "run_classic_ml_models(X_train, X_test, y_train, y_test)"
   ]
  },
  {
   "cell_type": "markdown",
   "id": "6288a0fc",
   "metadata": {},
   "source": [
    "## Cross Gradient Booster is the winning here:"
   ]
  },
  {
   "cell_type": "code",
   "execution_count": 12,
   "id": "a5d19ec2",
   "metadata": {},
   "outputs": [
    {
     "name": "stdout",
     "output_type": "stream",
     "text": [
      "(82,) (82,)\n",
      "              precision    recall  f1-score   support\n",
      "\n",
      "       happy       0.71      0.71      0.71        14\n",
      "         sad       0.71      0.86      0.77        28\n",
      "       angry       0.84      0.80      0.82        20\n",
      "     in-love       0.73      0.55      0.63        20\n",
      "\n",
      "    accuracy                           0.74        82\n",
      "   macro avg       0.75      0.73      0.73        82\n",
      "weighted avg       0.75      0.74      0.74        82\n",
      "\n"
     ]
    }
   ],
   "source": [
    "# Cross Gradient Booster (Random Forest)\n",
    "xgb = XGBClassifier(n_estimators=1000, learning_rate=0.05)\n",
    "xgb.fit(X_train, y_train)\n",
    "y_pred = xgb.predict(X_test)\n",
    "\n",
    "print(y_test.shape, y_pred.shape)\n",
    "print(classification_report(y_test, y_pred, target_names=dict_moods.keys()))"
   ]
  },
  {
   "cell_type": "code",
   "execution_count": 13,
   "id": "f545fe43",
   "metadata": {},
   "outputs": [
    {
     "data": {
      "image/png": "[encoded data removed]",
      "text/plain": [
       "<Figure size 640x480 with 1 Axes>"
      ]
     },
     "metadata": {},
     "output_type": "display_data"
    }
   ],
   "source": [
    "print_confusion_matrix(y_test, y_pred)"
   ]
  },
  {
   "cell_type": "markdown",
   "id": "c725a351",
   "metadata": {},
   "source": [
    "# Extract OpenL3 embedding and add network as a post-process:"
   ]
  },
  {
   "cell_type": "markdown",
   "id": "8899b5a9",
   "metadata": {},
   "source": [
    "### Helper Functions:"
   ]
  },
  {
   "cell_type": "code",
   "execution_count": 49,
   "id": "09fec122",
   "metadata": {},
   "outputs": [],
   "source": [
    "def extract_features(audio_path: str) -> np.ndarray:\n",
    "    \"\"\"\n",
    "    Extracts audio embeddings from a given audio file path using the OpenL3 library.\n",
    "    \"\"\"\n",
    "    audio, sr = sf.read(audio_path)\n",
    "    embedding, ts = openl3.get_audio_embedding(audio, sr, input_repr=\"mel256\", embedding_size=512)\n",
    "    return embedding\n",
    "\n",
    "def edit_path(path: str) -> str:\n",
    "    dir_name, file_name = os.path.split(path)\n",
    "    return f\"./data_with_wav/openl3_embedding/{file_name}\"\n",
    "\n",
    "def get_embedding(path: str) -> Optional[np.ndarray]:\n",
    "    \"\"\"\n",
    "    Attempts to extract features from an audio file; returns None if the file does not exist.\n",
    "    \"\"\"\n",
    "    if os.path.exists(path):\n",
    "        return extract_features(path)\n",
    "    else:\n",
    "        return None\n",
    "    \n",
    "def load_npy(path: str) -> Optional[np.ndarray]:\n",
    "    \"\"\"\n",
    "    Loads a .npy file if it exists; returns None otherwise.\n",
    "    \"\"\"\n",
    "    if os.path.exists(path):\n",
    "        return np.load(path)\n",
    "    else:\n",
    "        return None\n",
    "    \n",
    "def load_npy_mean(path: str) -> Optional[np.ndarray]:\n",
    "    \"\"\"\n",
    "    Loads a .npy file and returns its mean along axis 0; returns None if the file does not exist.\n",
    "    \"\"\"\n",
    "    if os.path.exists(path):\n",
    "        np_array = np.load(path)\n",
    "        return np.mean(np_array, axis=0)\n",
    "    else:\n",
    "        return None\n",
    "    \n",
    "# Function to load npy file\n",
    "def validate_size_2d(np_data: Optional[np.ndarray]) -> Optional[np.ndarray]:\n",
    "    \"\"\"\n",
    "    Validates if the input numpy array has the shape (196, 512); returns None otherwise.\n",
    "    \"\"\"\n",
    "    if np_data is not None:\n",
    "        if np_data.shape == (196, 512):\n",
    "            return np_data\n",
    "        else:\n",
    "            return None\n",
    "    else:\n",
    "        return None\n",
    "    \n",
    "# Function to load npy file\n",
    "def validate_size_1d(np_data: Optional[np.ndarray]) -> Optional[np.ndarray]:\n",
    "    \"\"\"\n",
    "    Validates if the input numpy array has the shape (512,); returns None otherwise.\n",
    "    \"\"\"\n",
    "    if np_data is not None:\n",
    "        if np_data.shape == (512, ):\n",
    "            return np_data\n",
    "        else:\n",
    "            return None\n",
    "    else:\n",
    "        return None\n",
    "\n",
    "def get_bit_represent_labels(data: pd.DataFrame, label_column: str = 'label', num_categories: int = 4) -> np.ndarray:\n",
    "    \"\"\"\n",
    "    Converts categorical labels in a DataFrame into a bit encoded numpy array.\n",
    "    \"\"\"\n",
    "    return np.eye(num_categories)[data[label_column]]\n",
    "\n",
    "def convert_column_into_np_array(data: pd.DataFrame, column: str = 'Npy Content') -> np.ndarray:\n",
    "    \"\"\"\n",
    "    Converts a column in a DataFrame containing numpy arrays into a single stacked numpy array.\n",
    "    \"\"\"\n",
    "    numpy_arrays = []\n",
    "\n",
    "    for element in data[column]:\n",
    "        numpy_arrays.append(element)\n",
    "\n",
    "    return np.stack(numpy_arrays)\n",
    "\n",
    "def train_validation_test_split(features: np.ndarray, labels: np.ndarray, test_size: float = 0.3, random_state: int = 42) -> Tuple[np.ndarray, np.ndarray, np.ndarray, np.ndarray, np.ndarray, np.ndarray]:\n",
    "    \"\"\"\n",
    "    Splits the features and labels into training, validation, and test sets.\n",
    "    \"\"\"\n",
    "    X_train, X_test, y_train, y_test = train_test_split(features, labels, test_size=test_size, random_state=random_state, stratify=labels)\n",
    "    X_validation, X_test, y_validation, y_test = train_test_split(X_test, y_test, test_size=0.5, random_state=42)\n",
    "    return X_train, X_validation, X_test, y_train, y_validation, y_test\n",
    "\n",
    "def show_summary_stats(history):\n",
    "    # List all data in history\n",
    "    print(history.history.keys())\n",
    "\n",
    "    # Summarize history for accuracy\n",
    "    plt.plot(history.history['accuracy'])\n",
    "    plt.plot(history.history['val_accuracy'])\n",
    "    plt.title('model accuracy')\n",
    "    plt.ylabel('accuracy')\n",
    "    plt.xlabel('epoch')\n",
    "    plt.legend(['train', 'test'], loc='upper left')\n",
    "    plt.show()\n",
    "\n",
    "    # Summarize history for loss\n",
    "    plt.plot(history.history['loss'])\n",
    "    plt.plot(history.history['val_loss'])\n",
    "    plt.title('model loss')\n",
    "    plt.ylabel('loss')\n",
    "    plt.xlabel('epoch')\n",
    "    plt.legend(['train', 'test'], loc='upper left')\n",
    "    plt.show()\n",
    "\n",
    "    \n",
    "def build_cnn_model():\n",
    "    model = models.Sequential([\n",
    "        layers.Conv2D(32, (3, 3), activation='relu', input_shape=(196, 512, 1)),\n",
    "        layers.MaxPooling2D((2, 2)),\n",
    "        layers.Conv2D(64, (3, 3), activation='relu'),\n",
    "        layers.MaxPooling2D((2, 2)),\n",
    "        layers.Conv2D(128, (3, 3), activation='relu'),\n",
    "        layers.MaxPooling2D((2, 2)),\n",
    "        layers.Flatten(),\n",
    "        layers.Dense(128, activation='relu'), # 512\n",
    "        layers.Dense(4, activation='softmax')\n",
    "    ])\n",
    "\n",
    "    model.summary()\n",
    "    model.compile(optimizer='adam',\n",
    "                  loss='categorical_crossentropy',\n",
    "                  metrics=['accuracy'])\n",
    "    \n",
    "    return model\n",
    "\n",
    "def build_fully_connected_model():\n",
    "    model = models.Sequential([    \n",
    "        layers.Input(shape=(512, 1)),  # Explicitly defining input shape\n",
    "        layers.Flatten(),\n",
    "        layers.Dense(512, activation='relu'),\n",
    "        layers.Dense(4, activation='softmax')\n",
    "    ])\n",
    "\n",
    "    model.summary()\n",
    "    model.compile(optimizer='adam',\n",
    "                  loss='categorical_crossentropy',\n",
    "                  metrics=['accuracy'])\n",
    "    \n",
    "    return model"
   ]
  },
  {
   "cell_type": "markdown",
   "id": "2ced39e0",
   "metadata": {},
   "source": [
    "## embedding matrix:\n",
    "### Take the all embedding output of the openl3 and try to build cnn as a post-network model"
   ]
  },
  {
   "cell_type": "code",
   "execution_count": 62,
   "id": "a73f11e3",
   "metadata": {},
   "outputs": [
    {
     "data": {
      "text/html": [
       "<div>\n",
       "<style scoped>\n",
       "    .dataframe tbody tr th:only-of-type {\n",
       "        vertical-align: middle;\n",
       "    }\n",
       "\n",
       "    .dataframe tbody tr th {\n",
       "        vertical-align: top;\n",
       "    }\n",
       "\n",
       "    .dataframe thead th {\n",
       "        text-align: right;\n",
       "    }\n",
       "</style>\n",
       "<table border=\"1\" class=\"dataframe\">\n",
       "  <thead>\n",
       "    <tr style=\"text-align: right;\">\n",
       "      <th></th>\n",
       "      <th>npy_path</th>\n",
       "      <th>emotion</th>\n",
       "    </tr>\n",
       "  </thead>\n",
       "  <tbody>\n",
       "    <tr>\n",
       "      <th>0</th>\n",
       "      <td>./data_with_wav\\openl3_embedding\\i_was_all_ove...</td>\n",
       "      <td>sad</td>\n",
       "    </tr>\n",
       "    <tr>\n",
       "      <th>1</th>\n",
       "      <td>./data_with_wav\\openl3_embedding\\i_was_all_ove...</td>\n",
       "      <td>sad</td>\n",
       "    </tr>\n",
       "    <tr>\n",
       "      <th>2</th>\n",
       "      <td>./data_with_wav\\openl3_embedding\\i_was_all_ove...</td>\n",
       "      <td>sad</td>\n",
       "    </tr>\n",
       "    <tr>\n",
       "      <th>3</th>\n",
       "      <td>./data_with_wav\\openl3_embedding\\Inside_Out_0.npy</td>\n",
       "      <td>sad</td>\n",
       "    </tr>\n",
       "    <tr>\n",
       "      <th>4</th>\n",
       "      <td>./data_with_wav\\openl3_embedding\\Inside_Out_1.npy</td>\n",
       "      <td>sad</td>\n",
       "    </tr>\n",
       "  </tbody>\n",
       "</table>\n",
       "</div>"
      ],
      "text/plain": [
       "                                            npy_path emotion\n",
       "0  ./data_with_wav\\openl3_embedding\\i_was_all_ove...     sad\n",
       "1  ./data_with_wav\\openl3_embedding\\i_was_all_ove...     sad\n",
       "2  ./data_with_wav\\openl3_embedding\\i_was_all_ove...     sad\n",
       "3  ./data_with_wav\\openl3_embedding\\Inside_Out_0.npy     sad\n",
       "4  ./data_with_wav\\openl3_embedding\\Inside_Out_1.npy     sad"
      ]
     },
     "execution_count": 62,
     "metadata": {},
     "output_type": "execute_result"
    }
   ],
   "source": [
    "# Reading Data\n",
    "openl3_data = pd.read_csv(f'embeddings_data.csv')\n",
    "openl3_data.head()"
   ]
  },
  {
   "cell_type": "code",
   "execution_count": 63,
   "id": "012a40d3",
   "metadata": {},
   "outputs": [],
   "source": [
    "# Prepare data:\n",
    "# Adding label as int number\n",
    "openl3_data = adding_number_label_column(openl3_data, original_label_column=\"emotion\")\n",
    "# edit the path to be correct to the path in my computer\n",
    "openl3_data['npy_path'] = openl3_data['npy_path'].apply(edit_path)\n",
    "# load the np data from the files\n",
    "openl3_data['Npy Content'] = openl3_data['npy_path'].apply(load_npy)\n",
    "# leave only ['Npy Content', 'label'] columns\n",
    "openl3_data = openl3_data[['Npy Content', 'label']]\n",
    "# validate the shape and leave only the \"valid\" once\n",
    "openl3_data['Npy Content'] = openl3_data['Npy Content'].apply(validate_size_2d)\n",
    "openl3_data = openl3_data.dropna(subset=[\"Npy Content\"])"
   ]
  },
  {
   "cell_type": "code",
   "execution_count": 64,
   "id": "024cf020",
   "metadata": {},
   "outputs": [],
   "source": [
    "# extract the features and labels for the 2d representaion\n",
    "features_2d = convert_column_into_np_array(openl3_data, 'Npy Content')\n",
    "labels_2d = get_bit_represent_labels(openl3_data)"
   ]
  },
  {
   "cell_type": "markdown",
   "id": "c3f90a09",
   "metadata": {},
   "source": [
    "### Build CNN as a post network for the openl3 embedding"
   ]
  },
  {
   "cell_type": "code",
   "execution_count": 66,
   "id": "c34e5578",
   "metadata": {},
   "outputs": [
    {
     "name": "stdout",
     "output_type": "stream",
     "text": [
      "Model: \"sequential_5\"\n",
      "_________________________________________________________________\n",
      " Layer (type)                Output Shape              Param #   \n",
      "=================================================================\n",
      " conv2d_3 (Conv2D)           (None, 194, 510, 32)      320       \n",
      "                                                                 \n",
      " max_pooling2d_3 (MaxPoolin  (None, 97, 255, 32)       0         \n",
      " g2D)                                                            \n",
      "                                                                 \n",
      " conv2d_4 (Conv2D)           (None, 95, 253, 64)       18496     \n",
      "                                                                 \n",
      " max_pooling2d_4 (MaxPoolin  (None, 47, 126, 64)       0         \n",
      " g2D)                                                            \n",
      "                                                                 \n",
      " conv2d_5 (Conv2D)           (None, 45, 124, 128)      73856     \n",
      "                                                                 \n",
      " max_pooling2d_5 (MaxPoolin  (None, 22, 62, 128)       0         \n",
      " g2D)                                                            \n",
      "                                                                 \n",
      " flatten_5 (Flatten)         (None, 174592)            0         \n",
      "                                                                 \n",
      " dense_10 (Dense)            (None, 128)               22347904  \n",
      "                                                                 \n",
      " dense_11 (Dense)            (None, 4)                 516       \n",
      "                                                                 \n",
      "=================================================================\n",
      "Total params: 22441092 (85.61 MB)\n",
      "Trainable params: 22441092 (85.61 MB)\n",
      "Non-trainable params: 0 (0.00 Byte)\n",
      "_________________________________________________________________\n",
      "Epoch 1/10\n",
      "32/32 [==============================] - ETA: 0s - loss: 4.3909 - accuracy: 0.3153\n",
      "Epoch 1: val_loss improved from inf to 1.36749, saving model to model_checkpoint.h5\n"
     ]
    },
    {
     "name": "stderr",
     "output_type": "stream",
     "text": [
      "C:\\Users\\Yonatan Ron\\anaconda3\\lib\\site-packages\\keras\\src\\engine\\training.py:3103: UserWarning: You are saving your model as an HDF5 file via `model.save()`. This file format is considered legacy. We recommend using instead the native Keras format, e.g. `model.save('my_model.keras')`.\n",
      "  saving_api.save_model(\n"
     ]
    },
    {
     "name": "stdout",
     "output_type": "stream",
     "text": [
      "32/32 [==============================] - 142s 4s/step - loss: 4.3909 - accuracy: 0.3153 - val_loss: 1.3675 - val_accuracy: 0.2317\n",
      "Epoch 2/10\n",
      "32/32 [==============================] - ETA: 0s - loss: 1.2799 - accuracy: 0.3965\n",
      "Epoch 2: val_loss improved from 1.36749 to 1.14989, saving model to model_checkpoint.h5\n",
      "32/32 [==============================] - 135s 4s/step - loss: 1.2799 - accuracy: 0.3965 - val_loss: 1.1499 - val_accuracy: 0.4516\n",
      "Epoch 3/10\n",
      "32/32 [==============================] - ETA: 0s - loss: 1.0893 - accuracy: 0.5142\n",
      "Epoch 3: val_loss improved from 1.14989 to 1.03602, saving model to model_checkpoint.h5\n",
      "32/32 [==============================] - 137s 4s/step - loss: 1.0893 - accuracy: 0.5142 - val_loss: 1.0360 - val_accuracy: 0.5455\n",
      "Epoch 4/10\n",
      "32/32 [==============================] - ETA: 0s - loss: 0.9980 - accuracy: 0.5765\n",
      "Epoch 4: val_loss did not improve from 1.03602\n",
      "32/32 [==============================] - 140s 4s/step - loss: 0.9980 - accuracy: 0.5765 - val_loss: 1.0363 - val_accuracy: 0.5425\n",
      "Epoch 5/10\n",
      "32/32 [==============================] - ETA: 0s - loss: 0.9045 - accuracy: 0.6457\n",
      "Epoch 5: val_loss improved from 1.03602 to 0.95490, saving model to model_checkpoint.h5\n",
      "32/32 [==============================] - 121s 4s/step - loss: 0.9045 - accuracy: 0.6457 - val_loss: 0.9549 - val_accuracy: 0.5865\n",
      "Epoch 6/10\n",
      "32/32 [==============================] - ETA: 0s - loss: 0.8363 - accuracy: 0.6627\n",
      "Epoch 6: val_loss did not improve from 0.95490\n",
      "32/32 [==============================] - 133s 4s/step - loss: 0.8363 - accuracy: 0.6627 - val_loss: 0.9566 - val_accuracy: 0.6012\n",
      "Epoch 7/10\n",
      "32/32 [==============================] - ETA: 0s - loss: 0.7801 - accuracy: 0.6916\n",
      "Epoch 7: val_loss improved from 0.95490 to 0.92239, saving model to model_checkpoint.h5\n",
      "32/32 [==============================] - 133s 4s/step - loss: 0.7801 - accuracy: 0.6916 - val_loss: 0.9224 - val_accuracy: 0.6070\n",
      "Epoch 8/10\n",
      "32/32 [==============================] - ETA: 0s - loss: 0.7159 - accuracy: 0.7250\n",
      "Epoch 8: val_loss did not improve from 0.92239\n",
      "32/32 [==============================] - 134s 4s/step - loss: 0.7159 - accuracy: 0.7250 - val_loss: 1.0108 - val_accuracy: 0.5836\n",
      "Epoch 9/10\n",
      "32/32 [==============================] - ETA: 0s - loss: 0.6702 - accuracy: 0.7212\n",
      "Epoch 9: val_loss did not improve from 0.92239\n",
      "32/32 [==============================] - 129s 4s/step - loss: 0.6702 - accuracy: 0.7212 - val_loss: 0.9681 - val_accuracy: 0.6305\n",
      "Epoch 10/10\n",
      "32/32 [==============================] - ETA: 0s - loss: 0.6045 - accuracy: 0.7678\n",
      "Epoch 10: val_loss did not improve from 0.92239\n",
      "32/32 [==============================] - 130s 4s/step - loss: 0.6045 - accuracy: 0.7678 - val_loss: 0.9919 - val_accuracy: 0.6129\n"
     ]
    }
   ],
   "source": [
    "X_train, X_validation, X_test, y_train, y_validation, y_test = train_validation_test_split(features_2d, labels_2d)\n",
    "\n",
    "model = build_cnn_model()\n",
    "\n",
    "# Define a ModelCheckpoint callback\n",
    "checkpoint = ModelCheckpoint('model_checkpoint.h5', monitor='val_loss', save_best_only=True, mode='min', verbose=1)\n",
    "\n",
    "history = model.fit(\n",
    "    X_train, y_train,\n",
    "    epochs=10,  \n",
    "    batch_size=50,\n",
    "    validation_data=(X_validation, y_validation),\n",
    "    callbacks=[checkpoint]\n",
    ")"
   ]
  },
  {
   "cell_type": "code",
   "execution_count": 67,
   "id": "e4873cd5",
   "metadata": {},
   "outputs": [
    {
     "name": "stdout",
     "output_type": "stream",
     "text": [
      "dict_keys(['loss', 'accuracy', 'val_loss', 'val_accuracy'])\n"
     ]
    },
    {
     "data": {
      "image/png": "[encoded data removed]",
      "text/plain": [
       "<Figure size 640x480 with 1 Axes>"
      ]
     },
     "metadata": {},
     "output_type": "display_data"
    },
    {
     "data": {
      "image/png": "[encoded data removed]",
      "text/plain": [
       "<Figure size 640x480 with 1 Axes>"
      ]
     },
     "metadata": {},
     "output_type": "display_data"
    }
   ],
   "source": [
    "show_summary_stats(history)"
   ]
  },
  {
   "cell_type": "code",
   "execution_count": 72,
   "id": "8ac74b18",
   "metadata": {},
   "outputs": [
    {
     "name": "stdout",
     "output_type": "stream",
     "text": [
      "11/11 [==============================] - 5s 416ms/step\n",
      "              precision    recall  f1-score   support\n",
      "\n",
      "       happy       0.47      0.82      0.60        83\n",
      "         sad       0.64      0.60      0.62        91\n",
      "       angry       0.76      0.41      0.53        78\n",
      "     in-love       0.70      0.54      0.61        89\n",
      "\n",
      "    accuracy                           0.60       341\n",
      "   macro avg       0.64      0.59      0.59       341\n",
      "weighted avg       0.64      0.60      0.59       341\n",
      "\n"
     ]
    }
   ],
   "source": [
    "y_true, y_pred = get_and_print_classification_report(model, X_test, y_test)"
   ]
  },
  {
   "cell_type": "code",
   "execution_count": 71,
   "id": "e0811eda",
   "metadata": {},
   "outputs": [
    {
     "data": {
      "image/png": "[encoded data removed]",
      "text/plain": [
       "<Figure size 640x480 with 1 Axes>"
      ]
     },
     "metadata": {},
     "output_type": "display_data"
    }
   ],
   "source": [
    "print_confusion_matrix(y_true, y_pred)"
   ]
  },
  {
   "cell_type": "markdown",
   "id": "9871b5ea",
   "metadata": {},
   "source": [
    "## Single embedding vector:\n",
    "### The idea is to take the 2d representaion and convert it to 1d of the embedding from openl3"
   ]
  },
  {
   "cell_type": "code",
   "execution_count": 51,
   "id": "8a98fcee",
   "metadata": {},
   "outputs": [
    {
     "data": {
      "text/html": [
       "<div>\n",
       "<style scoped>\n",
       "    .dataframe tbody tr th:only-of-type {\n",
       "        vertical-align: middle;\n",
       "    }\n",
       "\n",
       "    .dataframe tbody tr th {\n",
       "        vertical-align: top;\n",
       "    }\n",
       "\n",
       "    .dataframe thead th {\n",
       "        text-align: right;\n",
       "    }\n",
       "</style>\n",
       "<table border=\"1\" class=\"dataframe\">\n",
       "  <thead>\n",
       "    <tr style=\"text-align: right;\">\n",
       "      <th></th>\n",
       "      <th>npy_path</th>\n",
       "      <th>emotion</th>\n",
       "    </tr>\n",
       "  </thead>\n",
       "  <tbody>\n",
       "    <tr>\n",
       "      <th>0</th>\n",
       "      <td>./data_with_wav\\openl3_embedding\\i_was_all_ove...</td>\n",
       "      <td>sad</td>\n",
       "    </tr>\n",
       "    <tr>\n",
       "      <th>1</th>\n",
       "      <td>./data_with_wav\\openl3_embedding\\i_was_all_ove...</td>\n",
       "      <td>sad</td>\n",
       "    </tr>\n",
       "    <tr>\n",
       "      <th>2</th>\n",
       "      <td>./data_with_wav\\openl3_embedding\\i_was_all_ove...</td>\n",
       "      <td>sad</td>\n",
       "    </tr>\n",
       "    <tr>\n",
       "      <th>3</th>\n",
       "      <td>./data_with_wav\\openl3_embedding\\Inside_Out_0.npy</td>\n",
       "      <td>sad</td>\n",
       "    </tr>\n",
       "    <tr>\n",
       "      <th>4</th>\n",
       "      <td>./data_with_wav\\openl3_embedding\\Inside_Out_1.npy</td>\n",
       "      <td>sad</td>\n",
       "    </tr>\n",
       "  </tbody>\n",
       "</table>\n",
       "</div>"
      ],
      "text/plain": [
       "                                            npy_path emotion\n",
       "0  ./data_with_wav\\openl3_embedding\\i_was_all_ove...     sad\n",
       "1  ./data_with_wav\\openl3_embedding\\i_was_all_ove...     sad\n",
       "2  ./data_with_wav\\openl3_embedding\\i_was_all_ove...     sad\n",
       "3  ./data_with_wav\\openl3_embedding\\Inside_Out_0.npy     sad\n",
       "4  ./data_with_wav\\openl3_embedding\\Inside_Out_1.npy     sad"
      ]
     },
     "execution_count": 51,
     "metadata": {},
     "output_type": "execute_result"
    }
   ],
   "source": [
    "# Reading Data\n",
    "openl3_data_embedding = pd.read_csv(f'embeddings_data.csv')\n",
    "openl3_data_embedding.head()"
   ]
  },
  {
   "cell_type": "code",
   "execution_count": 52,
   "id": "9f2a9b5a",
   "metadata": {},
   "outputs": [],
   "source": [
    "# Prepare data:\n",
    "# Adding label as int number\n",
    "openl3_data_embedding = adding_number_label_column(openl3_data_embedding, original_label_column=\"emotion\")\n",
    "# edit the path to be correct to the path in my computer\n",
    "openl3_data_embedding['npy_path'] = openl3_data_embedding['npy_path'].apply(edit_path)\n",
    "# load the np data from the files, it will take the 196 samples of 512 embeddings and create the mean vector.\n",
    "openl3_data_embedding['Npy Content'] = openl3_data_embedding['npy_path'].apply(load_npy_mean)\n",
    "openl3_data_embedding = openl3_data_embedding[['Npy Content', 'label']]"
   ]
  },
  {
   "cell_type": "code",
   "execution_count": 53,
   "id": "03895130",
   "metadata": {},
   "outputs": [],
   "source": [
    "features_mean_embedding = convert_column_into_np_array(openl3_data_embedding, 'Npy Content')\n",
    "labels = get_bit_represent_labels(openl3_data_embedding)"
   ]
  },
  {
   "cell_type": "code",
   "execution_count": 58,
   "id": "fa3dfb6d",
   "metadata": {},
   "outputs": [
    {
     "name": "stdout",
     "output_type": "stream",
     "text": [
      "Model: \"sequential_3\"\n",
      "_________________________________________________________________\n",
      " Layer (type)                Output Shape              Param #   \n",
      "=================================================================\n",
      " flatten_3 (Flatten)         (None, 512)               0         \n",
      "                                                                 \n",
      " dense_6 (Dense)             (None, 512)               262656    \n",
      "                                                                 \n",
      " dense_7 (Dense)             (None, 4)                 2052      \n",
      "                                                                 \n",
      "=================================================================\n",
      "Total params: 264708 (1.01 MB)\n",
      "Trainable params: 264708 (1.01 MB)\n",
      "Non-trainable params: 0 (0.00 Byte)\n",
      "_________________________________________________________________\n",
      "Epoch 1/50\n",
      "11/16 [===================>..........] - ETA: 0s - loss: 4.1718 - accuracy: 0.2482\n",
      "Epoch 1: val_loss improved from inf to 2.59542, saving model to model_checkpoint.h5\n",
      "16/16 [==============================] - 1s 19ms/step - loss: 3.5550 - accuracy: 0.2564 - val_loss: 2.5954 - val_accuracy: 0.2845\n",
      "Epoch 2/50\n",
      "10/16 [=================>............] - ETA: 0s - loss: 1.7327 - accuracy: 0.3100\n",
      "Epoch 2: val_loss improved from 2.59542 to 1.38706, saving model to model_checkpoint.h5\n",
      "16/16 [==============================] - 0s 11ms/step - loss: 1.6060 - accuracy: 0.3193 - val_loss: 1.3871 - val_accuracy: 0.3021\n"
     ]
    },
    {
     "name": "stderr",
     "output_type": "stream",
     "text": [
      "C:\\Users\\Yonatan Ron\\anaconda3\\lib\\site-packages\\keras\\src\\engine\\training.py:3103: UserWarning: You are saving your model as an HDF5 file via `model.save()`. This file format is considered legacy. We recommend using instead the native Keras format, e.g. `model.save('my_model.keras')`.\n",
      "  saving_api.save_model(\n"
     ]
    },
    {
     "name": "stdout",
     "output_type": "stream",
     "text": [
      "Epoch 3/50\n",
      " 9/16 [===============>..............] - ETA: 0s - loss: 1.2764 - accuracy: 0.4033\n",
      "Epoch 3: val_loss improved from 1.38706 to 1.13625, saving model to model_checkpoint.h5\n",
      "16/16 [==============================] - 0s 11ms/step - loss: 1.2449 - accuracy: 0.4136 - val_loss: 1.1362 - val_accuracy: 0.4428\n",
      "Epoch 4/50\n",
      "10/16 [=================>............] - ETA: 0s - loss: 1.1529 - accuracy: 0.5000\n",
      "Epoch 4: val_loss improved from 1.13625 to 1.09216, saving model to model_checkpoint.h5\n",
      "16/16 [==============================] - 0s 10ms/step - loss: 1.1441 - accuracy: 0.4972 - val_loss: 1.0922 - val_accuracy: 0.5073\n",
      "Epoch 5/50\n",
      " 8/16 [==============>...............] - ETA: 0s - loss: 1.1407 - accuracy: 0.4950\n",
      "Epoch 5: val_loss improved from 1.09216 to 1.04373, saving model to model_checkpoint.h5\n",
      "16/16 [==============================] - 0s 12ms/step - loss: 1.1275 - accuracy: 0.5009 - val_loss: 1.0437 - val_accuracy: 0.5572\n",
      "Epoch 6/50\n",
      "10/16 [=================>............] - ETA: 0s - loss: 1.0525 - accuracy: 0.5640\n",
      "Epoch 6: val_loss improved from 1.04373 to 1.02946, saving model to model_checkpoint.h5\n",
      "16/16 [==============================] - 0s 11ms/step - loss: 1.0704 - accuracy: 0.5343 - val_loss: 1.0295 - val_accuracy: 0.5865\n",
      "Epoch 7/50\n",
      "10/16 [=================>............] - ETA: 0s - loss: 1.0592 - accuracy: 0.5460\n",
      "Epoch 7: val_loss did not improve from 1.02946\n",
      "16/16 [==============================] - 0s 10ms/step - loss: 1.0526 - accuracy: 0.5468 - val_loss: 1.0501 - val_accuracy: 0.5367\n",
      "Epoch 8/50\n",
      " 7/16 [============>.................] - ETA: 0s - loss: 1.0058 - accuracy: 0.5886\n",
      "Epoch 8: val_loss improved from 1.02946 to 0.98013, saving model to model_checkpoint.h5\n",
      "16/16 [==============================] - 0s 11ms/step - loss: 1.0121 - accuracy: 0.5720 - val_loss: 0.9801 - val_accuracy: 0.5718\n",
      "Epoch 9/50\n",
      "11/16 [===================>..........] - ETA: 0s - loss: 1.0215 - accuracy: 0.5591\n",
      "Epoch 9: val_loss did not improve from 0.98013\n",
      "16/16 [==============================] - 0s 8ms/step - loss: 1.0402 - accuracy: 0.5569 - val_loss: 1.1854 - val_accuracy: 0.4780\n",
      "Epoch 10/50\n",
      " 9/16 [===============>..............] - ETA: 0s - loss: 1.0822 - accuracy: 0.5367\n",
      "Epoch 10: val_loss improved from 0.98013 to 0.94511, saving model to model_checkpoint.h5\n",
      "16/16 [==============================] - 0s 11ms/step - loss: 1.0330 - accuracy: 0.5481 - val_loss: 0.9451 - val_accuracy: 0.6334\n",
      "Epoch 11/50\n",
      "10/16 [=================>............] - ETA: 0s - loss: 0.9739 - accuracy: 0.5840\n",
      "Epoch 11: val_loss did not improve from 0.94511\n",
      "16/16 [==============================] - 0s 8ms/step - loss: 0.9811 - accuracy: 0.5864 - val_loss: 0.9893 - val_accuracy: 0.5660\n",
      "Epoch 12/50\n",
      "10/16 [=================>............] - ETA: 0s - loss: 1.0393 - accuracy: 0.5400\n",
      "Epoch 12: val_loss did not improve from 0.94511\n",
      "16/16 [==============================] - 0s 9ms/step - loss: 1.0399 - accuracy: 0.5412 - val_loss: 1.0481 - val_accuracy: 0.5337\n",
      "Epoch 13/50\n",
      " 9/16 [===============>..............] - ETA: 0s - loss: 1.0139 - accuracy: 0.5700\n",
      "Epoch 13: val_loss did not improve from 0.94511\n",
      "16/16 [==============================] - 0s 9ms/step - loss: 1.0102 - accuracy: 0.5663 - val_loss: 1.0298 - val_accuracy: 0.5660\n",
      "Epoch 14/50\n",
      " 8/16 [==============>...............] - ETA: 0s - loss: 0.9647 - accuracy: 0.6025\n",
      "Epoch 14: val_loss did not improve from 0.94511\n",
      "16/16 [==============================] - 0s 10ms/step - loss: 0.9503 - accuracy: 0.6047 - val_loss: 1.0135 - val_accuracy: 0.5249\n",
      "Epoch 15/50\n",
      " 9/16 [===============>..............] - ETA: 0s - loss: 0.9803 - accuracy: 0.5689\n",
      "Epoch 15: val_loss did not improve from 0.94511\n",
      "16/16 [==============================] - 0s 9ms/step - loss: 0.9710 - accuracy: 0.5871 - val_loss: 0.9760 - val_accuracy: 0.5513\n",
      "Epoch 16/50\n",
      " 9/16 [===============>..............] - ETA: 0s - loss: 0.9872 - accuracy: 0.5844\n",
      "Epoch 16: val_loss improved from 0.94511 to 0.93598, saving model to model_checkpoint.h5\n",
      "16/16 [==============================] - 0s 11ms/step - loss: 0.9644 - accuracy: 0.6003 - val_loss: 0.9360 - val_accuracy: 0.6334\n",
      "Epoch 17/50\n",
      "10/16 [=================>............] - ETA: 0s - loss: 0.9407 - accuracy: 0.6290\n",
      "Epoch 17: val_loss did not improve from 0.93598\n",
      "16/16 [==============================] - 0s 9ms/step - loss: 0.9446 - accuracy: 0.6204 - val_loss: 0.9768 - val_accuracy: 0.5865\n",
      "Epoch 18/50\n",
      " 9/16 [===============>..............] - ETA: 0s - loss: 0.9119 - accuracy: 0.6311\n",
      "Epoch 18: val_loss improved from 0.93598 to 0.91320, saving model to model_checkpoint.h5\n",
      "16/16 [==============================] - 0s 11ms/step - loss: 0.9271 - accuracy: 0.6147 - val_loss: 0.9132 - val_accuracy: 0.5953\n",
      "Epoch 19/50\n",
      "11/16 [===================>..........] - ETA: 0s - loss: 1.0164 - accuracy: 0.5955\n",
      "Epoch 19: val_loss improved from 0.91320 to 0.87692, saving model to model_checkpoint.h5\n",
      "16/16 [==============================] - 0s 10ms/step - loss: 0.9765 - accuracy: 0.6015 - val_loss: 0.8769 - val_accuracy: 0.6364\n",
      "Epoch 20/50\n",
      " 9/16 [===============>..............] - ETA: 0s - loss: 0.9267 - accuracy: 0.6033\n",
      "Epoch 20: val_loss did not improve from 0.87692\n",
      "16/16 [==============================] - 0s 10ms/step - loss: 0.9114 - accuracy: 0.6128 - val_loss: 0.8978 - val_accuracy: 0.6217\n",
      "Epoch 21/50\n",
      " 8/16 [==============>...............] - ETA: 0s - loss: 0.8923 - accuracy: 0.6525\n",
      "Epoch 21: val_loss did not improve from 0.87692\n",
      "16/16 [==============================] - 0s 9ms/step - loss: 0.8991 - accuracy: 0.6442 - val_loss: 1.0751 - val_accuracy: 0.5191\n",
      "Epoch 22/50\n",
      " 9/16 [===============>..............] - ETA: 0s - loss: 1.1258 - accuracy: 0.5289\n",
      "Epoch 22: val_loss did not improve from 0.87692\n",
      "16/16 [==============================] - 0s 9ms/step - loss: 1.1137 - accuracy: 0.5324 - val_loss: 1.4922 - val_accuracy: 0.5044\n",
      "Epoch 23/50\n",
      " 9/16 [===============>..............] - ETA: 0s - loss: 1.0901 - accuracy: 0.5533\n",
      "Epoch 23: val_loss did not improve from 0.87692\n",
      "16/16 [==============================] - 0s 9ms/step - loss: 1.0487 - accuracy: 0.5638 - val_loss: 0.9391 - val_accuracy: 0.6276\n",
      "Epoch 24/50\n",
      "10/16 [=================>............] - ETA: 0s - loss: 0.9387 - accuracy: 0.6180\n",
      "Epoch 24: val_loss did not improve from 0.87692\n",
      "16/16 [==============================] - 0s 9ms/step - loss: 0.9469 - accuracy: 0.6160 - val_loss: 0.8996 - val_accuracy: 0.6100\n",
      "Epoch 25/50\n",
      "11/16 [===================>..........] - ETA: 0s - loss: 0.9035 - accuracy: 0.6464\n",
      "Epoch 25: val_loss did not improve from 0.87692\n",
      "16/16 [==============================] - 0s 8ms/step - loss: 0.9125 - accuracy: 0.6348 - val_loss: 0.9102 - val_accuracy: 0.6305\n",
      "Epoch 26/50\n",
      "10/16 [=================>............] - ETA: 0s - loss: 1.0107 - accuracy: 0.5730\n",
      "Epoch 26: val_loss did not improve from 0.87692\n",
      "16/16 [==============================] - 0s 8ms/step - loss: 1.0248 - accuracy: 0.5726 - val_loss: 1.0361 - val_accuracy: 0.5543\n",
      "Epoch 27/50\n",
      "10/16 [=================>............] - ETA: 0s - loss: 1.0877 - accuracy: 0.5580\n",
      "Epoch 27: val_loss did not improve from 0.87692\n",
      "16/16 [==============================] - 0s 9ms/step - loss: 1.0312 - accuracy: 0.5795 - val_loss: 0.9537 - val_accuracy: 0.5894\n",
      "Epoch 28/50\n",
      "10/16 [=================>............] - ETA: 0s - loss: 0.8715 - accuracy: 0.6470\n",
      "Epoch 28: val_loss did not improve from 0.87692\n",
      "16/16 [==============================] - 0s 9ms/step - loss: 0.8892 - accuracy: 0.6405 - val_loss: 0.9966 - val_accuracy: 0.5806\n",
      "Epoch 29/50\n",
      " 7/16 [============>.................] - ETA: 0s - loss: 0.9087 - accuracy: 0.6329\n",
      "Epoch 29: val_loss did not improve from 0.87692\n",
      "16/16 [==============================] - 0s 9ms/step - loss: 0.8806 - accuracy: 0.6354 - val_loss: 0.8877 - val_accuracy: 0.6217\n",
      "Epoch 30/50\n",
      " 9/16 [===============>..............] - ETA: 0s - loss: 0.9127 - accuracy: 0.6267\n",
      "Epoch 30: val_loss did not improve from 0.87692\n",
      "16/16 [==============================] - 0s 9ms/step - loss: 0.9208 - accuracy: 0.6235 - val_loss: 0.9763 - val_accuracy: 0.5777\n",
      "Epoch 31/50\n",
      " 9/16 [===============>..............] - ETA: 0s - loss: 1.0067 - accuracy: 0.5944\n",
      "Epoch 31: val_loss did not improve from 0.87692\n",
      "16/16 [==============================] - 0s 9ms/step - loss: 0.9769 - accuracy: 0.6072 - val_loss: 0.9894 - val_accuracy: 0.5718\n"
     ]
    },
    {
     "name": "stdout",
     "output_type": "stream",
     "text": [
      "Epoch 32/50\n",
      "10/16 [=================>............] - ETA: 0s - loss: 0.9762 - accuracy: 0.6050\n",
      "Epoch 32: val_loss did not improve from 0.87692\n",
      "16/16 [==============================] - 0s 8ms/step - loss: 0.9492 - accuracy: 0.6072 - val_loss: 0.9586 - val_accuracy: 0.5982\n",
      "Epoch 33/50\n",
      "11/16 [===================>..........] - ETA: 0s - loss: 0.9584 - accuracy: 0.6009\n",
      "Epoch 33: val_loss did not improve from 0.87692\n",
      "16/16 [==============================] - 0s 8ms/step - loss: 0.9680 - accuracy: 0.6028 - val_loss: 1.0859 - val_accuracy: 0.5191\n",
      "Epoch 34/50\n",
      "10/16 [=================>............] - ETA: 0s - loss: 0.8746 - accuracy: 0.6490\n",
      "Epoch 34: val_loss did not improve from 0.87692\n",
      "16/16 [==============================] - 0s 8ms/step - loss: 0.8922 - accuracy: 0.6380 - val_loss: 0.9699 - val_accuracy: 0.5572\n",
      "Epoch 35/50\n",
      "10/16 [=================>............] - ETA: 0s - loss: 0.8969 - accuracy: 0.6200\n",
      "Epoch 35: val_loss did not improve from 0.87692\n",
      "16/16 [==============================] - 0s 9ms/step - loss: 0.9332 - accuracy: 0.6078 - val_loss: 0.9380 - val_accuracy: 0.6364\n",
      "Epoch 36/50\n",
      "11/16 [===================>..........] - ETA: 0s - loss: 0.9354 - accuracy: 0.6173\n",
      "Epoch 36: val_loss did not improve from 0.87692\n",
      "16/16 [==============================] - 0s 8ms/step - loss: 0.9135 - accuracy: 0.6204 - val_loss: 0.9145 - val_accuracy: 0.6129\n",
      "Epoch 37/50\n",
      "11/16 [===================>..........] - ETA: 0s - loss: 0.8926 - accuracy: 0.6327\n",
      "Epoch 37: val_loss did not improve from 0.87692\n",
      "16/16 [==============================] - 0s 8ms/step - loss: 0.9118 - accuracy: 0.6266 - val_loss: 0.9500 - val_accuracy: 0.5630\n",
      "Epoch 38/50\n",
      "10/16 [=================>............] - ETA: 0s - loss: 0.9604 - accuracy: 0.6000\n",
      "Epoch 38: val_loss improved from 0.87692 to 0.84703, saving model to model_checkpoint.h5\n",
      "16/16 [==============================] - 0s 11ms/step - loss: 0.9288 - accuracy: 0.6191 - val_loss: 0.8470 - val_accuracy: 0.6540\n",
      "Epoch 39/50\n",
      "10/16 [=================>............] - ETA: 0s - loss: 0.9776 - accuracy: 0.5910\n",
      "Epoch 39: val_loss did not improve from 0.84703\n",
      "16/16 [==============================] - 0s 10ms/step - loss: 0.9723 - accuracy: 0.5871 - val_loss: 0.8957 - val_accuracy: 0.6129\n",
      "Epoch 40/50\n",
      " 8/16 [==============>...............] - ETA: 0s - loss: 0.8961 - accuracy: 0.6400\n",
      "Epoch 40: val_loss did not improve from 0.84703\n",
      "16/16 [==============================] - 0s 11ms/step - loss: 0.8774 - accuracy: 0.6430 - val_loss: 0.8800 - val_accuracy: 0.6569\n",
      "Epoch 41/50\n",
      "11/16 [===================>..........] - ETA: 0s - loss: 0.8477 - accuracy: 0.6609\n",
      "Epoch 41: val_loss improved from 0.84703 to 0.82791, saving model to model_checkpoint.h5\n",
      "16/16 [==============================] - 0s 10ms/step - loss: 0.8431 - accuracy: 0.6631 - val_loss: 0.8279 - val_accuracy: 0.6657\n",
      "Epoch 42/50\n",
      "11/16 [===================>..........] - ETA: 0s - loss: 0.8488 - accuracy: 0.6591\n",
      "Epoch 42: val_loss did not improve from 0.82791\n",
      "16/16 [==============================] - 0s 8ms/step - loss: 0.8508 - accuracy: 0.6556 - val_loss: 0.8696 - val_accuracy: 0.6393\n",
      "Epoch 43/50\n",
      "11/16 [===================>..........] - ETA: 0s - loss: 0.8610 - accuracy: 0.6636\n",
      "Epoch 43: val_loss did not improve from 0.82791\n",
      "16/16 [==============================] - 0s 8ms/step - loss: 0.8658 - accuracy: 0.6606 - val_loss: 0.9829 - val_accuracy: 0.5601\n",
      "Epoch 44/50\n",
      "11/16 [===================>..........] - ETA: 0s - loss: 0.8934 - accuracy: 0.6400\n",
      "Epoch 44: val_loss did not improve from 0.82791\n",
      "16/16 [==============================] - 0s 9ms/step - loss: 0.8754 - accuracy: 0.6386 - val_loss: 0.8972 - val_accuracy: 0.6276\n",
      "Epoch 45/50\n",
      "10/16 [=================>............] - ETA: 0s - loss: 0.9388 - accuracy: 0.6160\n",
      "Epoch 45: val_loss did not improve from 0.82791\n",
      "16/16 [==============================] - 0s 10ms/step - loss: 0.9809 - accuracy: 0.6009 - val_loss: 1.0316 - val_accuracy: 0.5689\n",
      "Epoch 46/50\n",
      "10/16 [=================>............] - ETA: 0s - loss: 0.9422 - accuracy: 0.5940\n",
      "Epoch 46: val_loss improved from 0.82791 to 0.82196, saving model to model_checkpoint.h5\n",
      "16/16 [==============================] - 0s 10ms/step - loss: 0.9298 - accuracy: 0.6078 - val_loss: 0.8220 - val_accuracy: 0.6598\n",
      "Epoch 47/50\n",
      "11/16 [===================>..........] - ETA: 0s - loss: 0.8613 - accuracy: 0.6445\n",
      "Epoch 47: val_loss did not improve from 0.82196\n",
      "16/16 [==============================] - 0s 8ms/step - loss: 0.8387 - accuracy: 0.6656 - val_loss: 0.9072 - val_accuracy: 0.5924\n",
      "Epoch 48/50\n",
      "10/16 [=================>............] - ETA: 0s - loss: 0.8661 - accuracy: 0.6360\n",
      "Epoch 48: val_loss did not improve from 0.82196\n",
      "16/16 [==============================] - 0s 9ms/step - loss: 0.8866 - accuracy: 0.6304 - val_loss: 0.9354 - val_accuracy: 0.5924\n",
      "Epoch 49/50\n",
      " 9/16 [===============>..............] - ETA: 0s - loss: 0.8942 - accuracy: 0.6256\n",
      "Epoch 49: val_loss did not improve from 0.82196\n",
      "16/16 [==============================] - 0s 9ms/step - loss: 0.9100 - accuracy: 0.6210 - val_loss: 0.9394 - val_accuracy: 0.6393\n",
      "Epoch 50/50\n",
      "10/16 [=================>............] - ETA: 0s - loss: 0.8539 - accuracy: 0.6520\n",
      "Epoch 50: val_loss did not improve from 0.82196\n",
      "16/16 [==============================] - 0s 9ms/step - loss: 0.8456 - accuracy: 0.6512 - val_loss: 0.8800 - val_accuracy: 0.6716\n"
     ]
    }
   ],
   "source": [
    "X_train, X_validation, X_test, y_train, y_validation, y_test = train_validation_test_split(features_mean_embedding, labels)\n",
    "\n",
    "model = build_fully_connected_model()\n",
    "\n",
    "# Define a ModelCheckpoint callback\n",
    "checkpoint = ModelCheckpoint('model_checkpoint.h5', monitor='val_loss', save_best_only=True, mode='min', verbose=1)\n",
    "\n",
    "history = model.fit(\n",
    "    X_train, y_train,\n",
    "    epochs=50,  \n",
    "    batch_size=100,\n",
    "    validation_data=(X_validation, y_validation),\n",
    "    callbacks=[checkpoint]  # Add checkpoint, scheduler callbacks\n",
    ")"
   ]
  },
  {
   "cell_type": "code",
   "execution_count": 59,
   "id": "75c44336",
   "metadata": {},
   "outputs": [
    {
     "name": "stdout",
     "output_type": "stream",
     "text": [
      "dict_keys(['loss', 'accuracy', 'val_loss', 'val_accuracy'])\n"
     ]
    },
    {
     "data": {
      "image/png": "[encoded data removed]",
      "text/plain": [
       "<Figure size 640x480 with 1 Axes>"
      ]
     },
     "metadata": {},
     "output_type": "display_data"
    },
    {
     "data": {
      "image/png": "[encoded data removed]",
      "text/plain": [
       "<Figure size 640x480 with 1 Axes>"
      ]
     },
     "metadata": {},
     "output_type": "display_data"
    }
   ],
   "source": [
    "show_summary_stats(history)"
   ]
  },
  {
   "cell_type": "code",
   "execution_count": 60,
   "id": "9b7463c3",
   "metadata": {
    "scrolled": true
   },
   "outputs": [
    {
     "name": "stdout",
     "output_type": "stream",
     "text": [
      "11/11 [==============================] - 0s 2ms/step\n",
      "              precision    recall  f1-score   support\n",
      "\n",
      "       happy       0.53      0.72      0.61        81\n",
      "         sad       0.60      0.61      0.61        93\n",
      "       angry       0.82      0.40      0.53        81\n",
      "     in-love       0.61      0.69      0.65        87\n",
      "\n",
      "    accuracy                           0.61       342\n",
      "   macro avg       0.64      0.60      0.60       342\n",
      "weighted avg       0.64      0.61      0.60       342\n",
      "\n"
     ]
    }
   ],
   "source": [
    "y_true, y_pred = get_and_print_classification_report(model, X_test, y_test)"
   ]
  },
  {
   "cell_type": "code",
   "execution_count": 61,
   "id": "b4a56706",
   "metadata": {},
   "outputs": [
    {
     "data": {
      "image/png": "[encoded data removed]",
      "text/plain": [
       "<Figure size 640x480 with 1 Axes>"
      ]
     },
     "metadata": {},
     "output_type": "display_data"
    }
   ],
   "source": [
    "print_confusion_matrix(y_true, y_pred)"
   ]
  },
  {
   "cell_type": "markdown",
   "id": "52108809",
   "metadata": {},
   "source": [
    "### Try the classic ml models on the embedding from openl3 as features."
   ]
  },
  {
   "cell_type": "code",
   "execution_count": 40,
   "id": "905593eb",
   "metadata": {},
   "outputs": [
    {
     "name": "stdout",
     "output_type": "stream",
     "text": [
      "Accuracy Naive Bayes : 0.59341 \n",
      "\n",
      "Accuracy Stochastic Gradient Descent : 0.51868 \n",
      "\n",
      "Accuracy Decission trees : 0.52308 \n",
      "\n",
      "Accuracy Random Forest : 0.69231 \n",
      "\n",
      "Accuracy Support Vector Machine : 0.68352 \n",
      "\n"
     ]
    },
    {
     "name": "stderr",
     "output_type": "stream",
     "text": [
      "C:\\Users\\Yonatan Ron\\AppData\\Roaming\\Python\\Python39\\site-packages\\sklearn\\linear_model\\_logistic.py:458: ConvergenceWarning: lbfgs failed to converge (status=1):\n",
      "STOP: TOTAL NO. of ITERATIONS REACHED LIMIT.\n",
      "\n",
      "Increase the number of iterations (max_iter) or scale the data as shown in:\n",
      "    https://scikit-learn.org/stable/modules/preprocessing.html\n",
      "Please also refer to the documentation for alternative solver options:\n",
      "    https://scikit-learn.org/stable/modules/linear_model.html#logistic-regression\n",
      "  n_iter_i = _check_optimize_result(\n"
     ]
    },
    {
     "name": "stdout",
     "output_type": "stream",
     "text": [
      "Accuracy Logistic Regression : 0.66593 \n",
      "\n"
     ]
    },
    {
     "name": "stderr",
     "output_type": "stream",
     "text": [
      "C:\\Users\\Yonatan Ron\\AppData\\Roaming\\Python\\Python39\\site-packages\\sklearn\\neural_network\\_multilayer_perceptron.py:541: ConvergenceWarning: lbfgs failed to converge (status=1):\n",
      "STOP: TOTAL NO. of ITERATIONS REACHED LIMIT.\n",
      "\n",
      "Increase the number of iterations (max_iter) or scale the data as shown in:\n",
      "    https://scikit-learn.org/stable/modules/preprocessing.html\n",
      "  self.n_iter_ = _check_optimize_result(\"lbfgs\", opt_res, self.max_iter)\n"
     ]
    },
    {
     "name": "stdout",
     "output_type": "stream",
     "text": [
      "Accuracy Neural Nets : 0.7011 \n",
      "\n",
      "Accuracy Cross Gradient Booster : 0.75165 \n",
      "\n",
      "Accuracy Cross Gradient Booster (Random Forest) : 0.6967 \n",
      "\n"
     ]
    }
   ],
   "source": [
    "df_features = pd.DataFrame(features_mean_embedding.tolist())\n",
    "X_train, X_test, y_train, y_test = train_test_split(df_features, openl3_data_embedding['label'], test_size=0.2, random_state=42) #, shuffle=True, stratify=openl3_data['label'])\n",
    "run_classic_ml_models(X_train, X_test, y_train, y_test)"
   ]
  }
 ],
 "metadata": {
  "kernelspec": {
   "display_name": "Python 3 (ipykernel)",
   "language": "python",
   "name": "python3"
  },
  "language_info": {
   "codemirror_mode": {
    "name": "ipython",
    "version": 3
   },
   "file_extension": ".py",
   "mimetype": "text/x-python",
   "name": "python",
   "nbconvert_exporter": "python",
   "pygments_lexer": "ipython3",
   "version": "3.9.1"
  }
 },
 "nbformat": 4,
 "nbformat_minor": 5
}
